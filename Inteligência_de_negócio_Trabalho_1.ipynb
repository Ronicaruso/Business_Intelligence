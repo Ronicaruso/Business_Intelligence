{
  "nbformat": 4,
  "nbformat_minor": 0,
  "metadata": {
    "colab": {
      "name": "Inteligência de negócio - Trabalho 1.ipynb",
      "provenance": [],
      "collapsed_sections": []
    },
    "kernelspec": {
      "name": "python3",
      "display_name": "Python 3"
    },
    "language_info": {
      "name": "python"
    }
  },
  "cells": [
    {
      "cell_type": "markdown",
      "metadata": {
        "id": "Bq4fL1eR8dzQ"
      },
      "source": [
        "#**Importando Bibliotecas**"
      ]
    },
    {
      "cell_type": "code",
      "metadata": {
        "id": "bq-uyoys0alK"
      },
      "source": [
        "from google.colab import auth\n",
        "from google.cloud import bigquery\n",
        "import numpy as np\n",
        "import pandas as pd\n"
      ],
      "execution_count": null,
      "outputs": []
    },
    {
      "cell_type": "markdown",
      "metadata": {
        "id": "CgD7Ddh_85-a"
      },
      "source": [
        "#**Carregar dados**"
      ]
    },
    {
      "cell_type": "code",
      "metadata": {
        "colab": {
          "base_uri": "https://localhost:8080/"
        },
        "id": "L2TbVZnS32Br",
        "outputId": "466f0b7d-c4e2-4df5-ae92-7ed4cdf26f41"
      },
      "source": [
        "! wget --no-check-certificate --content-disposition 'http://api.bcb.gov.br/dados/serie/bcdata.sgs.21082/dados?formato=csv'"
      ],
      "execution_count": null,
      "outputs": [
        {
          "output_type": "stream",
          "name": "stdout",
          "text": [
            "URL transformed to HTTPS due to an HSTS policy\n",
            "--2021-09-25 21:17:08--  https://api.bcb.gov.br/dados/serie/bcdata.sgs.21082/dados?formato=csv\n",
            "Resolving api.bcb.gov.br (api.bcb.gov.br)... 200.218.208.96\n",
            "Connecting to api.bcb.gov.br (api.bcb.gov.br)|200.218.208.96|:443... connected.\n",
            "HTTP request sent, awaiting response... 200 OK\n",
            "Length: 2641 (2.6K) [text/csv]\n",
            "Saving to: ‘dados?formato=csv’\n",
            "\n",
            "dados?formato=csv   100%[===================>]   2.58K  --.-KB/s    in 0s      \n",
            "\n",
            "2021-09-25 21:17:09 (343 MB/s) - ‘dados?formato=csv’ saved [2641/2641]\n",
            "\n"
          ]
        }
      ]
    },
    {
      "cell_type": "code",
      "metadata": {
        "colab": {
          "base_uri": "https://localhost:8080/"
        },
        "id": "xaW5te-NoKqo",
        "outputId": "3132bd7d-c670-4f56-9ba8-165572c8a063"
      },
      "source": [
        "! wget --no-check-certificate --content-disposition 'http://api.bcb.gov.br/dados/serie/bcdata.sgs.4390/dados?formato=csv'"
      ],
      "execution_count": null,
      "outputs": [
        {
          "output_type": "stream",
          "name": "stdout",
          "text": [
            "URL transformed to HTTPS due to an HSTS policy\n",
            "--2021-09-25 21:17:12--  https://api.bcb.gov.br/dados/serie/bcdata.sgs.4390/dados?formato=csv\n",
            "Resolving api.bcb.gov.br (api.bcb.gov.br)... 200.218.208.96\n",
            "Connecting to api.bcb.gov.br (api.bcb.gov.br)|200.218.208.96|:443... connected.\n",
            "HTTP request sent, awaiting response... 200 OK\n",
            "Length: 8999 (8.8K) [text/csv]\n",
            "Saving to: ‘bcdata.sgs.4390.csv.1’\n",
            "\n",
            "bcdata.sgs.4390.csv 100%[===================>]   8.79K  --.-KB/s    in 0.001s  \n",
            "\n",
            "2021-09-25 21:17:13 (12.7 MB/s) - ‘bcdata.sgs.4390.csv.1’ saved [8999/8999]\n",
            "\n"
          ]
        }
      ]
    },
    {
      "cell_type": "code",
      "metadata": {
        "id": "zPiSJFVlgrj2"
      },
      "source": [
        "## Devido ao tamanho da base 'Operações do tesouro direto' e a fim de  agilizar o processo de importação, essa foi carregada manualmente via google.drive. Caso necessário ultilizar webscraping, segue abaixo o código\n",
        "\n",
        "##! wget --no-check-certificate --content-disposition 'https://www.tesourotransparente.gov.br/ckan/dataset/78739a33-4d2f-4e35-88fd-65f1ccbe81c4/resource/4100d614-d1ad-4b62-9435-84f7943e46f3/download/OperacoesTesouroDireto.csv'"
      ],
      "execution_count": null,
      "outputs": []
    },
    {
      "cell_type": "code",
      "metadata": {
        "id": "80RjpJY18UDE"
      },
      "source": [
        "db_inadimplencia = pd.read_csv('bcdata.sgs.21082.csv',encoding='UTF-8',sep= ';')"
      ],
      "execution_count": null,
      "outputs": []
    },
    {
      "cell_type": "code",
      "metadata": {
        "id": "47GJv4FyobOa"
      },
      "source": [
        "db_selic_acumulada = pd.read_csv('dados?formato=csv',encoding='UTF-8',sep= ';')"
      ],
      "execution_count": null,
      "outputs": []
    },
    {
      "cell_type": "code",
      "metadata": {
        "id": "c-UMFbV1ueUE"
      },
      "source": [
        "db_tesouro_direto = pd.read_csv('/content/drive/MyDrive/Colab Notebooks/Inteligência de negócios/OperacoesTesouroDireto.csv',encoding='UTF-8',sep= ';')"
      ],
      "execution_count": null,
      "outputs": []
    },
    {
      "cell_type": "markdown",
      "metadata": {
        "id": "BnYVR2dchewc"
      },
      "source": [
        "##**Tratando os campos de data**"
      ]
    },
    {
      "cell_type": "code",
      "metadata": {
        "id": "DA-JGB60fgqM"
      },
      "source": [
        "db_inadimplencia.data=pd.to_datetime(db_inadimplencia.data, format= '%d/%m/%Y')\n"
      ],
      "execution_count": null,
      "outputs": []
    },
    {
      "cell_type": "code",
      "metadata": {
        "id": "jKNkKoFAfgnl"
      },
      "source": [
        "db_selic_acumulada.data=pd.to_datetime(db_selic_acumulada.data, format= '%d/%m/%Y')"
      ],
      "execution_count": null,
      "outputs": []
    },
    {
      "cell_type": "code",
      "metadata": {
        "id": "G2iFFHh3fgkl"
      },
      "source": [
        "\n",
        "db_tesouro_direto['Data da Operacao']=pd.to_datetime(db_tesouro_direto['Data da Operacao'], format= '%d/%m/%Y')\n"
      ],
      "execution_count": null,
      "outputs": []
    },
    {
      "cell_type": "markdown",
      "metadata": {
        "id": "WtizJKQb8wnk"
      },
      "source": [
        "##**Autenticar projeto**"
      ]
    },
    {
      "cell_type": "code",
      "metadata": {
        "id": "INIpNRW53Wmx"
      },
      "source": [
        "auth.authenticate_user()\n",
        "project_id = 'maua-inteligencia-de-negocios'\n",
        "client = bigquery.Client(project=project_id)"
      ],
      "execution_count": null,
      "outputs": []
    },
    {
      "cell_type": "markdown",
      "metadata": {
        "id": "g5wgAsva_LGr"
      },
      "source": [
        "##**Adicionar dados no BQ**"
      ]
    },
    {
      "cell_type": "code",
      "metadata": {
        "id": "im9Q_gfOffBs"
      },
      "source": [
        "dataset_ref = bigquery.Dataset(project_id+'.dados_bacen')\n",
        "dataset_ref = client.create_dataset(dataset_ref)"
      ],
      "execution_count": null,
      "outputs": []
    },
    {
      "cell_type": "code",
      "metadata": {
        "id": "fXwxnIq_fUib"
      },
      "source": [
        "table_ref = dataset_ref.table(\"TB_inadimplencia\")"
      ],
      "execution_count": null,
      "outputs": []
    },
    {
      "cell_type": "code",
      "metadata": {
        "colab": {
          "base_uri": "https://localhost:8080/"
        },
        "id": "DsecddRyxdq6",
        "outputId": "b71fa81c-cb40-4cee-8905-13bc746f062f"
      },
      "source": [
        "job = client.load_table_from_dataframe(db_inadimplencia, table_ref, \n",
        "                                       job_config = bigquery.LoadJobConfig(write_disposition=\"WRITE_TRUNCATE\"))\n",
        "job.result() "
      ],
      "execution_count": null,
      "outputs": [
        {
          "output_type": "stream",
          "name": "stderr",
          "text": [
            "/usr/local/lib/python3.7/dist-packages/google/cloud/bigquery/_pandas_helpers.py:275: UserWarning: Unable to determine type of column 'valor'.\n",
            "  warnings.warn(u\"Unable to determine type of column '{}'.\".format(column))\n"
          ]
        },
        {
          "output_type": "execute_result",
          "data": {
            "text/plain": [
              "<google.cloud.bigquery.job.LoadJob at 0x7f3614fba9d0>"
            ]
          },
          "metadata": {},
          "execution_count": 100
        }
      ]
    },
    {
      "cell_type": "code",
      "metadata": {
        "id": "VWhA26HcfUgO"
      },
      "source": [
        "table_ref = dataset_ref.table(\"TB_selic_acumulada\")"
      ],
      "execution_count": null,
      "outputs": []
    },
    {
      "cell_type": "code",
      "metadata": {
        "id": "11ZT4WNvfUdG",
        "colab": {
          "base_uri": "https://localhost:8080/"
        },
        "outputId": "cd23aa28-9e10-4ce0-b03a-5087e83a9605"
      },
      "source": [
        "job = client.load_table_from_dataframe(db_selic_acumulada, table_ref, \n",
        "                                       job_config = bigquery.LoadJobConfig(write_disposition=\"WRITE_TRUNCATE\"))\n",
        "job.result() "
      ],
      "execution_count": null,
      "outputs": [
        {
          "output_type": "stream",
          "name": "stderr",
          "text": [
            "/usr/local/lib/python3.7/dist-packages/google/cloud/bigquery/_pandas_helpers.py:275: UserWarning: Unable to determine type of column 'valor'.\n",
            "  warnings.warn(u\"Unable to determine type of column '{}'.\".format(column))\n"
          ]
        },
        {
          "output_type": "execute_result",
          "data": {
            "text/plain": [
              "<google.cloud.bigquery.job.LoadJob at 0x7f3607a0ff90>"
            ]
          },
          "metadata": {},
          "execution_count": 102
        }
      ]
    },
    {
      "cell_type": "code",
      "metadata": {
        "id": "1YEZSXStfUaa"
      },
      "source": [
        "table_ref = dataset_ref.table(\"TB_tesouro_direto\")"
      ],
      "execution_count": null,
      "outputs": []
    },
    {
      "cell_type": "code",
      "metadata": {
        "id": "Z9-FPEGkfUXw",
        "colab": {
          "base_uri": "https://localhost:8080/"
        },
        "outputId": "10a3ffc1-3d44-4c15-e7cf-d899e11b626d"
      },
      "source": [
        "job = client.load_table_from_dataframe(db_tesouro_direto, table_ref, \n",
        "                                       job_config = bigquery.LoadJobConfig(write_disposition=\"WRITE_TRUNCATE\"))\n",
        "job.result() "
      ],
      "execution_count": null,
      "outputs": [
        {
          "output_type": "stream",
          "name": "stderr",
          "text": [
            "/usr/local/lib/python3.7/dist-packages/google/cloud/bigquery/_pandas_helpers.py:275: UserWarning: Unable to determine type of column 'Tipo Titulo'.\n",
            "  warnings.warn(u\"Unable to determine type of column '{}'.\".format(column))\n"
          ]
        },
        {
          "output_type": "execute_result",
          "data": {
            "text/plain": [
              "<google.cloud.bigquery.job.LoadJob at 0x7f3614fbae90>"
            ]
          },
          "metadata": {},
          "execution_count": 104
        }
      ]
    },
    {
      "cell_type": "markdown",
      "metadata": {
        "id": "rE7KaqlUTOyi"
      },
      "source": [
        "##**Montanddo uma tabela 'resumo' para ser linkada ao dashboard**"
      ]
    },
    {
      "cell_type": "code",
      "metadata": {
        "id": "1Y_WQztDCMJU"
      },
      "source": [
        "### script em SQL\n",
        "\n",
        "sql = \"\"\"\n",
        "WITH \n",
        "\n",
        "tesouro as (\n",
        "SELECT distinct Codigo_do_Investidor,\n",
        "replace(Quantidade,\",\",\".\") as Titulos, \n",
        "replace(Valor_da_Operacao,\",\",\".\") as Valor_da_Operacao, \n",
        "cast (date_trunc(Data_da_Operacao, month) as date) as data_tesouro\n",
        "\n",
        "FROM `maua-inteligencia-de-negocios.dados_bacen.TB_tesouro_direto` \n",
        "\n",
        "),\n",
        "\n",
        "inadimplencia as (\n",
        "SELECT cast (date_trunc(data, month) as date) as data_inadimp, \n",
        "replace(valor,\",\",\".\") as valor_inadimpl_mes, \n",
        "FROM `maua-inteligencia-de-negocios.dados_bacen.TB_inadimplencia`\n",
        "),\n",
        "\n",
        "selic as (\n",
        "SELECT cast (date_trunc(data, month) as date) as data_selic, \n",
        "replace(valor,\",\",\".\") as valor_selic_mes, \n",
        "FROM `maua-inteligencia-de-negocios.dados_bacen.TB_selic_acumulada`\n",
        ")\n",
        "\n",
        "\n",
        "\n",
        "select count(Codigo_do_Investidor) as qtd_investidores\n",
        "       ,sum(cast(Titulos as float64)) as qtd_titulos\n",
        "       ,sum(cast(Valor_da_Operacao as float64)) as Valor_da_Operacao\n",
        "       ,avg(cast(valor_inadimpl_mes as float64)) as valor_inadimpl_mes\n",
        "\t     ,avg(cast(valor_selic_mes as float64)) as valor_selic_mes\n",
        "       ,A.data_tesouro\n",
        "\n",
        "\n",
        "from tesouro as A LEFT JOIN inadimplencia AS B ON   A.data_tesouro = B.data_inadimp        \n",
        "                  LEFT JOIN selic         AS C ON   A.data_tesouro = C.data_selic\n",
        "                  \n",
        "group by data_tesouro\n",
        "order by data_tesouro desc\n",
        "\n",
        "\"\"\"\n",
        "\n"
      ],
      "execution_count": null,
      "outputs": []
    },
    {
      "cell_type": "code",
      "metadata": {
        "id": "RngrQCw1D5Ph"
      },
      "source": [
        "df_resumo = client.query(sql).to_dataframe()"
      ],
      "execution_count": null,
      "outputs": []
    },
    {
      "cell_type": "code",
      "metadata": {
        "id": "BxyvI4MzEuVY"
      },
      "source": [
        "table_ref = dataset_ref.table(\"TB_resumo\")"
      ],
      "execution_count": null,
      "outputs": []
    },
    {
      "cell_type": "code",
      "metadata": {
        "colab": {
          "base_uri": "https://localhost:8080/"
        },
        "id": "1OMHhzehBktv",
        "outputId": "7839408d-eafa-4325-fda7-25ff6389ea83"
      },
      "source": [
        "job = client.load_table_from_dataframe(df_resumo, table_ref, \n",
        "                                       job_config = bigquery.LoadJobConfig(write_disposition=\"WRITE_TRUNCATE\"))\n",
        "job.result() "
      ],
      "execution_count": null,
      "outputs": [
        {
          "output_type": "stream",
          "name": "stderr",
          "text": [
            "/usr/local/lib/python3.7/dist-packages/google/cloud/bigquery/_pandas_helpers.py:275: UserWarning: Unable to determine type of column 'data_tesouro'.\n",
            "  warnings.warn(u\"Unable to determine type of column '{}'.\".format(column))\n"
          ]
        },
        {
          "output_type": "execute_result",
          "data": {
            "text/plain": [
              "<google.cloud.bigquery.job.LoadJob at 0x7f35fb9d6fd0>"
            ]
          },
          "metadata": {},
          "execution_count": 115
        }
      ]
    }
  ]
}